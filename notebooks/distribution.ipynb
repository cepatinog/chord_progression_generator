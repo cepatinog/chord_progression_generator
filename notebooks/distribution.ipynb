{
 "cells": [
  {
   "cell_type": "code",
   "execution_count": null,
   "metadata": {},
   "outputs": [],
   "source": [
    "# Celda: Analizar la distribución de acordes en archivos .jams\n",
    "\n",
    "import jams\n",
    "from pathlib import Path\n",
    "import collections\n",
    "import matplotlib.pyplot as plt\n",
    "\n",
    "def analyze_chords_in_jams(jams_folder: Path):\n",
    "    \"\"\"\n",
    "    Lee todos los .jams en la carpeta dada,\n",
    "    extrae los acordes (campo 'value' de la anotación 'chord'),\n",
    "    y hace un gráfico de barras con la distribución.\n",
    "    \"\"\"\n",
    "    chord_counts = collections.Counter()\n",
    "\n",
    "    jam_files = list(jams_folder.rglob(\"*.jams\"))\n",
    "    if not jam_files:\n",
    "        print(f\"No hay archivos .jams en {jams_folder}\")\n",
    "        return\n",
    "\n",
    "    # 1) Recorrer cada .jams\n",
    "    for jamf in jam_files:\n",
    "        jam = jams.load(jamf)\n",
    "        # 2) Buscar anotaciones chord\n",
    "        for ann in jam.annotations:\n",
    "            if ann.namespace == \"chord\":\n",
    "                # 3) Extraer cada evento de acordes\n",
    "                for chord_event in ann.data:\n",
    "                    chord_label = chord_event.value  # p.ej. \"A:min6\"\n",
    "                    chord_counts[chord_label] += 1\n",
    "\n",
    "    # 4) Visualizar resultado\n",
    "    if not chord_counts:\n",
    "        print(f\"No se encontraron acordes en la carpeta {jams_folder}\")\n",
    "        return\n",
    "\n",
    "    # Ordenar por frecuencia descendente\n",
    "    labels, freqs = zip(*chord_counts.most_common())\n",
    "\n",
    "    plt.figure(figsize=(10, 6))\n",
    "    plt.bar(labels, freqs)\n",
    "    plt.title(f\"Distribución de acordes en {jams_folder.name}\")\n",
    "    plt.xticks(rotation=90)\n",
    "    plt.tight_layout()\n",
    "    plt.show()\n",
    "\n",
    "# Ejemplo de uso:\n",
    "JAMS_FOLDER = Path(\"/ruta/a/tu/carpeta/de/jams\")\n",
    "analyze_chords_in_jams(JAMS_FOLDER)\n"
   ]
  }
 ],
 "metadata": {
  "language_info": {
   "name": "python"
  }
 },
 "nbformat": 4,
 "nbformat_minor": 2
}
