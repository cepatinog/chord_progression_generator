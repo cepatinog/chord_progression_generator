{
 "cells": [
  {
   "cell_type": "code",
   "execution_count": 1,
   "metadata": {},
   "outputs": [
    {
     "name": "stdout",
     "output_type": "stream",
     "text": [
      "Playing /home/cepatinog/MIR/final_project/chord_progression_generator/data/patterns/my_progression.mid\n",
      "MIDI file: /home/cepatinog/MIR/final_project/chord_progression_generator/data/patterns/my_progression.mid\n",
      "Format: 1  Tracks: 2  Divisions: 960\n",
      "Playing time: ~12 seconds\n",
      "Notes cut: 0\n",
      "Notes lost totally: 0\n",
      "Pipeline completo ejecutado con éxito!\n"
     ]
    }
   ],
   "source": [
    "import sys\n",
    "sys.path.append('../')  # Asegúrate de apuntar a la carpeta padre si es necesario\n",
    "\n",
    "from src.chord_logic import create_progression\n",
    "from src.midi_generation import create_midi\n",
    "from src.audio_conversion import midi_to_wav\n",
    "from src.jams_creation import create_jams\n",
    "\n",
    "# 1. Crear una progresión de ejemplo\n",
    "progression = [\"I\", \"vi\", \"ii\", \"V\"]\n",
    "base_midi = 60  # Corresponde a C4\n",
    "chords_midi = create_progression(base_midi, progression)\n",
    "\n",
    "# 2. Generar el archivo MIDI\n",
    "midi_file = create_midi(chords_midi, 'my_progression.mid')\n",
    "\n",
    "# 3. Convertir el MIDI a WAV\n",
    "wav_file = midi_to_wav(midi_file, 'my_progression.wav')\n",
    "\n",
    "# 4. Crear archivo JAMS\n",
    "jams_file = create_jams(progression, 'my_progression.jams')\n",
    "\n",
    "print(\"Pipeline completo ejecutado con éxito!\")\n"
   ]
  }
 ],
 "metadata": {
  "kernelspec": {
   "display_name": "jazznet-env",
   "language": "python",
   "name": "python3"
  },
  "language_info": {
   "codemirror_mode": {
    "name": "ipython",
    "version": 3
   },
   "file_extension": ".py",
   "mimetype": "text/x-python",
   "name": "python",
   "nbconvert_exporter": "python",
   "pygments_lexer": "ipython3",
   "version": "3.9.21"
  }
 },
 "nbformat": 4,
 "nbformat_minor": 2
}
