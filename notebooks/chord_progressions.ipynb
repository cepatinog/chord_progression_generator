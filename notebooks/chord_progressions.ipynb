{
 "cells": [
  {
   "cell_type": "markdown",
   "metadata": {},
   "source": [
    "# # Chord Progressions Notebook\n",
    "En este notebook:\n",
    "\n",
    "1. Generamos archivos .mid con `generate_progression.py` en TODAS las tonalidades (p. ej. \"A-1-...\" o \"C#-5-...\").\n",
    "2. Convertimos esos .mid a .wav con Timidity usando `audio_conversion.py`.\n",
    "3. Creamos .jams parseando el nombre de cada .mid para extraer:\n",
    "   - Nota y octava (p. ej. \"A-1\"),\n",
    "   - Progresión en numerales romanos (p. ej. \"I-vi-IV-V\"),\n",
    "   - Índice final, p. ej. \"3\".\n",
    "\n",
    "---\n",
    "\n",
    "## 1. Imports y Configuración"
   ]
  },
  {
   "cell_type": "code",
   "execution_count": 1,
   "metadata": {},
   "outputs": [
    {
     "name": "stdout",
     "output_type": "stream",
     "text": [
      "MIDI_DIR = /home/cepatinog/MIR/final_project/chord_progression_generator/data/midi\n",
      "WAV_DIR  = /home/cepatinog/MIR/final_project/chord_progression_generator/data/wav\n",
      "JAMS_DIR = /home/cepatinog/MIR/final_project/chord_progression_generator/data/jams\n",
      "DEFAULT_TEMPO = 60\n"
     ]
    }
   ],
   "source": [
    "import sys\n",
    "from pathlib import Path\n",
    "\n",
    "# Ajustar la ruta para que Python reconozca 'src'\n",
    "PROJECT_ROOT = Path.cwd().parent\n",
    "if str(PROJECT_ROOT) not in sys.path:\n",
    "    sys.path.append(str(PROJECT_ROOT))\n",
    "\n",
    "from src.config import MIDI_DIR, WAV_DIR, JAMS_DIR, DEFAULT_TEMPO\n",
    "from src.generate_progression import generate_progression\n",
    "from src.audio_conversion import convert_all_mid_in_folder\n",
    "from src.jams_creation import create_jams_file\n",
    "\n",
    "print(\"MIDI_DIR =\", MIDI_DIR)\n",
    "print(\"WAV_DIR  =\", WAV_DIR)\n",
    "print(\"JAMS_DIR =\", JAMS_DIR)\n",
    "print(\"DEFAULT_TEMPO =\", DEFAULT_TEMPO)\n"
   ]
  },
  {
   "cell_type": "markdown",
   "metadata": {},
   "source": [
    "## 2. Generar Progresiones .mid\n",
    "Probaremos un par de progresiones:\n",
    "- `ii,7-V,7-I,maj7` (3 acordes)\n",
    "- `I-vi-IV-V` (4 acordes)\n",
    "\n",
    "Cada una se expandirá en las diferentes octavas y tonalidades, generando múltiples .mid en `data/midi/...`.\n"
   ]
  },
  {
   "cell_type": "code",
   "execution_count": null,
   "metadata": {},
   "outputs": [],
   "source": [
    "# Ejemplo 1\n",
    "prog_1 = \"ii,7-V,7-I,maj7\"\n",
    "name_1 = \"ii7-V7-Imaj7_strip\"\n",
    "\n",
    "generate_progression(\n",
    "    progression=prog_1,\n",
    "    name=name_1,\n",
    "    output_dir=MIDI_DIR,\n",
    "    tempo=DEFAULT_TEMPO\n",
    ")\n",
    "\n",
    "# Ejemplo 2\n",
    "prog_2 = \"I-vi-IV-V\"\n",
    "name_2 = \"I-vi-IV-V_strip\"\n",
    "\n",
    "generate_progression(\n",
    "    progression=prog_2,\n",
    "    name=name_2,\n",
    "    output_dir=MIDI_DIR,\n",
    "    tempo=DEFAULT_TEMPO\n",
    ")\n",
    "\n",
    "print(\"Progresiones .mid generadas en data/midi/\")\n",
    "\n"
   ]
  },
  {
   "cell_type": "code",
   "execution_count": null,
   "metadata": {},
   "outputs": [],
   "source": [
    "midi_folder_1 = MIDI_DIR / name_1\n",
    "midi_folder_2 = MIDI_DIR / name_2"
   ]
  },
  {
   "cell_type": "markdown",
   "metadata": {},
   "source": [
    "## 3. Crear .jams parseando el nombre de cada .mid y limpiando subguiones\n",
    "No asumimos una sola tonalidad. En su lugar:\n",
    "- extraemos `<noteName>-<oct>` como tonalidad (ej: `Eb-6` => `Eb`),\n",
    "- extraemos la progresión entre `parts[2:-1]`,\n",
    "- dividimos los tokens y cada uno lo limpiamos con `strip_suffix` para quitar `_algo`.\n",
    "\n"
   ]
  },
  {
   "cell_type": "code",
   "execution_count": null,
   "metadata": {},
   "outputs": [],
   "source": [
    "def strip_suffix(token: str) -> str:\n",
    "    \"\"\"\n",
    "    Elimina cualquier subguion '_' en el token.\n",
    "    'Imaj7_test' -> 'Imaj7'\n",
    "    'V,7_ex'     -> 'V,7'\n",
    "    \"\"\"\n",
    "    if \"_\" in token:\n",
    "        return token.split(\"_\", 1)[0]\n",
    "    return token\n",
    "\n",
    "def parse_filename_and_create_jams(midi_file: Path):\n",
    "    \"\"\"\n",
    "    Recibe un archivo .mid, parsea su nombre,\n",
    "    determina la tonalidad y secuencia de acordes,\n",
    "    llama a create_jams_file con los tokens limpios.\n",
    "    \"\"\"\n",
    "    base_name = midi_file.stem  # e.g. \"Eb-6-ii7-V7-Imaj7_test-63\"\n",
    "    parts = base_name.split(\"-\")\n",
    "    if len(parts) < 3:\n",
    "        print(f\"Nombre de archivo inesperado => {base_name}\")\n",
    "        return\n",
    "\n",
    "    # 1) Nota + octava => p.ej. \"Eb-6\"\n",
    "    note_plus_oct = \"-\".join(parts[:2])  # [\"Eb\",\"6\"] => \"Eb-6\"\n",
    "    # 2) Progresión => parts[2:-1], sin el índice final\n",
    "    progression_list = parts[2:-1]       # e.g. [\"ii7\",\"V7\",\"Imaj7_test\"]\n",
    "    # 3) index => parts[-1], no se usa directamente\n",
    "    idx_str = parts[-1]\n",
    "\n",
    "    # Reconstruir la progresión => \"ii7-V7-Imaj7_test\"\n",
    "    progression_str = \"-\".join(progression_list)\n",
    "    raw_tokens = progression_str.split(\"-\")  # [\"ii7\",\"V7\",\"Imaj7_test\"]\n",
    "    # Aplicamos strip_suffix\n",
    "    roman_sequence = [strip_suffix(tok) for tok in raw_tokens] \n",
    "    # => [\"ii7\",\"V7\",\"Imaj7\"]\n",
    "\n",
    "    # Parse la tonalidad => e.g. \"Eb-6\" => [\"Eb\",\"6\"] => \"Eb\"\n",
    "    splitted = note_plus_oct.split(\"-\")\n",
    "    if len(splitted) == 2:\n",
    "        tonalidad = splitted[0]  # \"Eb\"\n",
    "    else:\n",
    "        tonalidad = splitted[0]\n",
    "\n",
    "    # Llamamos create_jams_file\n",
    "    jam_name = base_name\n",
    "    jam_path = create_jams_file(\n",
    "        roman_sequence=roman_sequence,\n",
    "        key=tonalidad,\n",
    "        jam_name=jam_name,\n",
    "        progression_name=\"-\".join(roman_sequence)\n",
    "    )\n",
    "    print(f\"[JAMS] {midi_file.name} => {jam_path.name}\")\n",
    "\n",
    "\n",
    "def parse_and_create_jams_in_folder(folder: Path):\n",
    "    \"\"\"\n",
    "    Aplica parse_filename_and_create_jams a cada .mid de la carpeta.\n",
    "    \"\"\"\n",
    "    if not folder.exists():\n",
    "        print(f\"No existe carpeta => {folder}\")\n",
    "        return\n",
    "    mid_files = list(folder.rglob(\"*.mid\"))\n",
    "    if not mid_files:\n",
    "        print(f\"No hay .mid en => {folder}\")\n",
    "        return\n",
    "\n",
    "    for mf in mid_files:\n",
    "        parse_filename_and_create_jams(mf)\n",
    "\n",
    "# Procesamos ambas carpetas\n",
    "parse_and_create_jams_in_folder(midi_folder_1)\n",
    "parse_and_create_jams_in_folder(midi_folder_2)\n"
   ]
  },
  {
   "cell_type": "markdown",
   "metadata": {},
   "source": [
    "## 4. Verificar .jams\n",
    "\n"
   ]
  },
  {
   "cell_type": "code",
   "execution_count": null,
   "metadata": {},
   "outputs": [],
   "source": [
    "for jfile in (JAMS_DIR / name_1).rglob(\"*.jams\"):\n",
    "    print(\"[JAMS #1]\", jfile)\n",
    "\n",
    "for jfile in (JAMS_DIR / name_2).rglob(\"*.jams\"):\n",
    "    print(\"[JAMS #2]\", jfile)\n",
    "\n"
   ]
  },
  {
   "cell_type": "markdown",
   "metadata": {},
   "source": [
    "## 5. Convertir a WAV con Timidity\n"
   ]
  },
  {
   "cell_type": "code",
   "execution_count": null,
   "metadata": {},
   "outputs": [],
   "source": [
    "\n",
    "convert_all_mid_in_folder(midi_folder_1)\n",
    "convert_all_mid_in_folder(midi_folder_2)\n",
    "\n",
    "print(\"Archivos .wav creados en data/wav/\")"
   ]
  }
 ],
 "metadata": {
  "kernelspec": {
   "display_name": "jazznet-env",
   "language": "python",
   "name": "python3"
  },
  "language_info": {
   "codemirror_mode": {
    "name": "ipython",
    "version": 3
   },
   "file_extension": ".py",
   "mimetype": "text/x-python",
   "name": "python",
   "nbconvert_exporter": "python",
   "pygments_lexer": "ipython3",
   "version": "3.9.21"
  }
 },
 "nbformat": 4,
 "nbformat_minor": 2
}
