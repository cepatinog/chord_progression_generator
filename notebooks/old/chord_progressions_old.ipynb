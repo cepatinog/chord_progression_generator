{
 "cells": [
  {
   "cell_type": "code",
   "execution_count": 1,
   "metadata": {},
   "outputs": [],
   "source": [
    "import os\n",
    "import glob\n",
    "import subprocess\n",
    "import json\n",
    "from pathlib import Path\n",
    "from midiutil import MIDIFile"
   ]
  },
  {
   "cell_type": "markdown",
   "metadata": {},
   "source": [
    "# CONFIGURACIÓN DE PARÁMETROS"
   ]
  },
  {
   "cell_type": "code",
   "execution_count": 2,
   "metadata": {},
   "outputs": [],
   "source": [
    "MIDI_DIR = \"patterns\"  # Carpeta donde se guardarán los archivos MIDI\n",
    "audio_dir = \"wav\"  # Carpeta donde se guardarán los archivos WAV\n",
    "jams_dir = \"jams\"  # Carpeta donde se guardarán los archivos JAMS"
   ]
  },
  {
   "cell_type": "code",
   "execution_count": 3,
   "metadata": {},
   "outputs": [],
   "source": [
    "def ensure_directories_exist():\n",
    "    for directory in [MIDI_DIR, audio_dir, jams_dir]:\n",
    "        Path(directory).mkdir(parents=True, exist_ok=True)\n",
    "\n",
    "ensure_directories_exist()"
   ]
  },
  {
   "cell_type": "markdown",
   "metadata": {},
   "source": [
    "# FUNCIÓN PARA GENERAR ACORDES"
   ]
  },
  {
   "cell_type": "code",
   "execution_count": 4,
   "metadata": {},
   "outputs": [],
   "source": [
    "def create_chord(base, offsets, inversion=0):\n",
    "    \"\"\"Genera un acorde en formato de lista de notas MIDI.\"\"\"\n",
    "    notes = [base + offset for offset in offsets]\n",
    "    for _ in range(inversion):\n",
    "        notes.append(notes.pop(0) + 12)  # Subir la primera nota una octava\n",
    "    return notes"
   ]
  },
  {
   "cell_type": "markdown",
   "metadata": {},
   "source": [
    "# FUNCIÓN PARA CREAR ARCHIVO MIDI"
   ]
  },
  {
   "cell_type": "code",
   "execution_count": 5,
   "metadata": {},
   "outputs": [],
   "source": [
    "def create_midi_file(chord, filename, style=\"chords\"):\n",
    "    \"\"\"Genera un archivo MIDI con el acorde dado.\"\"\"\n",
    "    track = 0\n",
    "    channel = 0\n",
    "    time = 0  # En beats\n",
    "    duration = 2  # En beats\n",
    "    tempo = 60  # BPM\n",
    "    volume = 100  # 0-127\n",
    "\n",
    "    MyMIDI = MIDIFile(1)  # Un solo track\n",
    "    MyMIDI.addTempo(track, time, tempo)\n",
    "\n",
    "    for note in chord:\n",
    "        MyMIDI.addNote(track, channel, note, time, duration, volume)\n",
    "    \n",
    "    midi_path = os.path.join(MIDI_DIR, style, filename + \".mid\")\n",
    "    Path(os.path.dirname(midi_path)).mkdir(parents=True, exist_ok=True)\n",
    "    \n",
    "    with open(midi_path, \"wb\") as output_file:\n",
    "        MyMIDI.writeFile(output_file)\n",
    "    \n",
    "    return midi_path"
   ]
  },
  {
   "cell_type": "markdown",
   "metadata": {},
   "source": [
    "# FUNCIÓN PARA CONVERTIR MIDI A WAV"
   ]
  },
  {
   "cell_type": "code",
   "execution_count": 6,
   "metadata": {},
   "outputs": [],
   "source": [
    "def convert_midi_to_wav(midi_path):\n",
    "    \"\"\"Convierte un archivo MIDI a WAV usando Timidity.\"\"\"\n",
    "    wav_path = midi_path.replace(MIDI_DIR, audio_dir).replace(\".mid\", \".wav\")\n",
    "    Path(os.path.dirname(wav_path)).mkdir(parents=True, exist_ok=True)\n",
    "    \n",
    "    subprocess.call(['timidity', midi_path, '-Ow1', '-s', '16kHz', '-o', wav_path])\n",
    "    return wav_path"
   ]
  },
  {
   "cell_type": "markdown",
   "metadata": {},
   "source": [
    "# FUNCIÓN PARA GENERAR ARCHIVO JAMS"
   ]
  },
  {
   "cell_type": "code",
   "execution_count": 7,
   "metadata": {},
   "outputs": [],
   "source": [
    "def create_jams_file(midi_path, chord_labels):\n",
    "    \"\"\"Crea un archivo JAMS con las etiquetas de los acordes.\"\"\"\n",
    "    jams_path = midi_path.replace(MIDI_DIR, jams_dir).replace(\".mid\", \".jams\")\n",
    "    Path(os.path.dirname(jams_path)).mkdir(parents=True, exist_ok=True)\n",
    "    \n",
    "    jams_data = {\n",
    "        \"chord\": [\n",
    "            {\"start\": i * 2, \"end\": (i + 1) * 2, \"label\": chord}\n",
    "            for i, chord in enumerate(chord_labels)\n",
    "        ]\n",
    "    }\n",
    "    \n",
    "    with open(jams_path, \"w\") as f:\n",
    "        json.dump(jams_data, f, indent=4)\n",
    "    \n",
    "    return jams_path"
   ]
  },
  {
   "cell_type": "markdown",
   "metadata": {},
   "source": [
    "# FUNCIÓN PRINCIPAL PARA GENERAR PROGRESIÓN"
   ]
  },
  {
   "cell_type": "code",
   "execution_count": 8,
   "metadata": {},
   "outputs": [],
   "source": [
    "def generate_chord_progression(progression_name, base_note, progression):\n",
    "    \"\"\"Genera una progresión de acordes en MIDI, WAV y JAMS.\"\"\"\n",
    "    chords = []\n",
    "    labels = []\n",
    "    base_midi = 48  # C4 en MIDI\n",
    "    \n",
    "    for numeral, offsets in progression.items():\n",
    "        chord = create_chord(base_midi, offsets)\n",
    "        filename = f\"{base_note}-{numeral}-{progression_name}\"\n",
    "        midi_path = create_midi_file(chord, filename)\n",
    "        convert_midi_to_wav(midi_path)\n",
    "        chords.append(chord)\n",
    "        labels.append(numeral)\n",
    "    \n",
    "    create_jams_file(midi_path, labels)\n",
    "    print(f\"Progresión {progression_name} generada con éxito!\")"
   ]
  },
  {
   "cell_type": "markdown",
   "metadata": {},
   "source": [
    "# EJEMPLO DE USO"
   ]
  },
  {
   "cell_type": "code",
   "execution_count": 9,
   "metadata": {},
   "outputs": [
    {
     "name": "stdout",
     "output_type": "stream",
     "text": [
      "Playing patterns/chords/C-I-basic_progression.mid\n",
      "MIDI file: patterns/chords/C-I-basic_progression.mid\n",
      "Format: 1  Tracks: 2  Divisions: 960\n",
      "Playing time: ~6 seconds\n",
      "Notes cut: 0\n",
      "Notes lost totally: 0\n",
      "Playing patterns/chords/C-IV-basic_progression.mid\n",
      "MIDI file: patterns/chords/C-IV-basic_progression.mid\n",
      "Format: 1  Tracks: 2  Divisions: 960\n",
      "Playing time: ~6 seconds\n",
      "Notes cut: 0\n",
      "Notes lost totally: 0\n",
      "Playing patterns/chords/C-V-basic_progression.mid\n",
      "MIDI file: patterns/chords/C-V-basic_progression.mid\n",
      "Format: 1  Tracks: 2  Divisions: 960\n",
      "Playing time: ~6 seconds\n",
      "Notes cut: 0\n",
      "Notes lost totally: 0\n",
      "Progresión basic_progression generada con éxito!\n"
     ]
    }
   ],
   "source": [
    "example_progression = {\n",
    "    \"I\": [0, 4, 7],\n",
    "    \"IV\": [0, 5, 9],\n",
    "    \"V\": [0, 7, 11],\n",
    "    \"I\": [0, 4, 7]\n",
    "}\n",
    "\n",
    "generate_chord_progression(\"basic_progression\", \"C\", example_progression)"
   ]
  }
 ],
 "metadata": {
  "kernelspec": {
   "display_name": "jazznet-env",
   "language": "python",
   "name": "python3"
  },
  "language_info": {
   "codemirror_mode": {
    "name": "ipython",
    "version": 3
   },
   "file_extension": ".py",
   "mimetype": "text/x-python",
   "name": "python",
   "nbconvert_exporter": "python",
   "pygments_lexer": "ipython3",
   "version": "3.9.21"
  }
 },
 "nbformat": 4,
 "nbformat_minor": 2
}
