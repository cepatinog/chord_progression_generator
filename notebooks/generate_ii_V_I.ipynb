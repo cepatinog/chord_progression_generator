{
 "cells": [
  {
   "cell_type": "code",
   "execution_count": 1,
   "metadata": {},
   "outputs": [
    {
     "name": "stdout",
     "output_type": "stream",
     "text": [
      "Done generating ii-V-I => ii-V-I_jazznet in all keys & octaves!\n",
      "Progresión ii-V-I generada en TODAS las tonalidades y octavas, con sus inversiones.\n"
     ]
    }
   ],
   "source": [
    "# notebooks/generate_ii_V_I.ipynb\n",
    "\n",
    "import sys\n",
    "sys.path.append('..')  # Ajustar según tu estructura\n",
    "\n",
    "from src.jazznet_progressions import generate_progression\n",
    "\n",
    "# EJEMPLO: Progresión ii-V-I\n",
    "# Típicamente se define: \"ii-V-I\"\n",
    "# Pero con una notación que permita alteraciones si deseas (p.ej. 'ii,7' => Dm7)\n",
    "\n",
    "# 1) Vamos a crear una progresión de 3 acordes: ii, V, I\n",
    "progression = \"ii-V-I\"\n",
    "name = \"ii-V-I_jazznet\"\n",
    "\n",
    "# 2) Llamamos a la función \n",
    "generate_progression(progression, name, style=\"progressions\", output_dir=\"data/patterns\")\n",
    "\n",
    "print(\"Progresión ii-V-I generada en TODAS las tonalidades y octavas, con sus inversiones.\")\n"
   ]
  }
 ],
 "metadata": {
  "kernelspec": {
   "display_name": "jazznet-env",
   "language": "python",
   "name": "python3"
  },
  "language_info": {
   "codemirror_mode": {
    "name": "ipython",
    "version": 3
   },
   "file_extension": ".py",
   "mimetype": "text/x-python",
   "name": "python",
   "nbconvert_exporter": "python",
   "pygments_lexer": "ipython3",
   "version": "3.9.21"
  }
 },
 "nbformat": 4,
 "nbformat_minor": 2
}
