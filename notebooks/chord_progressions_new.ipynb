{
 "cells": [
  {
   "cell_type": "code",
   "execution_count": null,
   "metadata": {},
   "outputs": [],
   "source": [
    "# ==========================\n",
    "# 1. Imports y Configuración\n",
    "# ==========================\n",
    "\n",
    "import sys\n",
    "import random\n",
    "import json\n",
    "from pathlib import Path\n",
    "\n",
    "# Ajustar la ruta para que Python reconozca 'src'\n",
    "PROJECT_ROOT = Path.cwd().parent\n",
    "if str(PROJECT_ROOT) not in sys.path:\n",
    "    sys.path.append(str(PROJECT_ROOT))\n",
    "\n",
    "from src.config import MIDI_DIR, WAV_DIR, JAMS_DIR, DEFAULT_TEMPO\n",
    "from src.generate_progression import generate_progression\n",
    "from src.audio_conversion import convert_all_mid_in_folder\n",
    "from src.jams_creation import create_jams_file\n",
    "\n",
    "print(\"MIDI_DIR =\", MIDI_DIR)\n",
    "print(\"WAV_DIR  =\", WAV_DIR)\n",
    "print(\"JAMS_DIR =\", JAMS_DIR)\n",
    "print(\"DEFAULT_TEMPO =\", DEFAULT_TEMPO)\n"
   ]
  },
  {
   "cell_type": "code",
   "execution_count": null,
   "metadata": {},
   "outputs": [],
   "source": [
    "# 2. Generar progresiones .mid\n",
    "prog_all_1 = \"I-IV-V\"\n",
    "name_all_1 = prog_all_1\n",
    "\n",
    "generate_progression(prog_all_1, name_all_1, MIDI_DIR, DEFAULT_TEMPO)\n",
    "\n",
    "midi_folder_all_1 = MIDI_DIR / name_all_1"
   ]
  },
  {
   "cell_type": "code",
   "execution_count": null,
   "metadata": {},
   "outputs": [],
   "source": [
    "# 3. Crear .jams parseando nombre del .mid y leyendo durations.json\n",
    "\n",
    "def strip_suffix(token: str) -> str:\n",
    "    if \"_\" in token:\n",
    "        return token.split(\"_\", 1)[0]\n",
    "    return token\n",
    "\n",
    "def parse_filename_and_create_jams(midi_file: Path, durations_dict: dict):\n",
    "    base_name = midi_file.stem\n",
    "    parts = base_name.split(\"-\")\n",
    "    if len(parts) < 3:\n",
    "        print(f\"Nombre de archivo inesperado => {base_name}\")\n",
    "        return\n",
    "\n",
    "    note_plus_oct = \"-\".join(parts[:2])\n",
    "    progression_list = parts[2:-1]\n",
    "    raw_tokens = \"-\".join(progression_list).split(\"-\")\n",
    "    roman_sequence = [strip_suffix(tok) for tok in raw_tokens]\n",
    "\n",
    "    splitted = note_plus_oct.split(\"-\")\n",
    "    tonalidad = strip_suffix(splitted[0]) if len(splitted) >= 1 else \"C\"\n",
    "\n",
    "    durations = durations_dict.get(f\"{base_name}.mid\", None)\n",
    "\n",
    "    jam_path = create_jams_file(\n",
    "        roman_sequence=roman_sequence,\n",
    "        key=tonalidad,\n",
    "        jam_name=base_name,\n",
    "        progression_name=\"-\".join(roman_sequence),\n",
    "        durations=durations\n",
    "    )\n",
    "    print(f\"[JAMS] {midi_file.name} => {jam_path.name}\")\n",
    "\n",
    "def parse_and_create_jams_in_folder(folder: Path):\n",
    "    if not folder.exists():\n",
    "        print(f\"No existe carpeta => {folder}\")\n",
    "        return\n",
    "\n",
    "    mid_files = list(folder.rglob(\"*.mid\"))\n",
    "    if not mid_files:\n",
    "        print(f\"No hay .mid en => {folder}\")\n",
    "        return\n",
    "\n",
    "    durations_path = folder / \"durations.json\"\n",
    "    if durations_path.exists():\n",
    "        with open(durations_path, \"r\") as f:\n",
    "            durations_dict = json.load(f)\n",
    "    else:\n",
    "        durations_dict = {}\n",
    "\n",
    "    for mf in mid_files:\n",
    "        parse_filename_and_create_jams(mf, durations_dict)"
   ]
  },
  {
   "cell_type": "code",
   "execution_count": null,
   "metadata": {},
   "outputs": [],
   "source": [
    "# Ejecutar creación de .jams\n",
    "parse_and_create_jams_in_folder(midi_folder_all_1)\n"
   ]
  }
 ],
 "metadata": {
  "kernelspec": {
   "display_name": "jazznet-env",
   "language": "python",
   "name": "python3"
  },
  "language_info": {
   "codemirror_mode": {
    "name": "ipython",
    "version": 3
   },
   "file_extension": ".py",
   "mimetype": "text/x-python",
   "name": "python",
   "nbconvert_exporter": "python",
   "pygments_lexer": "ipython3",
   "version": "3.9.21"
  }
 },
 "nbformat": 4,
 "nbformat_minor": 2
}
